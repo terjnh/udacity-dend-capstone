{
 "metadata": {
  "language_info": {
   "codemirror_mode": {
    "name": "ipython",
    "version": 3
   },
   "file_extension": ".py",
   "mimetype": "text/x-python",
   "name": "python",
   "nbconvert_exporter": "python",
   "pygments_lexer": "ipython3",
   "version": "3.8.5"
  },
  "orig_nbformat": 2,
  "kernelspec": {
   "name": "python385jvsc74a57bd031f2aee4e71d21fbe5cf8b01ff0e069b9275f58929596ceb00d14d90e3e16cd6",
   "display_name": "Python 3.8.5 64-bit"
  },
  "metadata": {
   "interpreter": {
    "hash": "31f2aee4e71d21fbe5cf8b01ff0e069b9275f58929596ceb00d14d90e3e16cd6"
   }
  }
 },
 "nbformat": 4,
 "nbformat_minor": 2,
 "cells": [
  {
   "cell_type": "code",
   "execution_count": 1,
   "metadata": {},
   "outputs": [],
   "source": [
    "# import and installs\n",
    "import pandas as pd\n",
    "\n",
    "from pyspark.sql import SparkSession\n",
    "spark = SparkSession.builder.\\\n",
    "config(\"spark.jars.packages\", \"org.apache.hadoop:hadoop-aws:2.7.0\") \\\n",
    ".getOrCreate()\n",
    "\n",
    "from pyspark.sql.functions import first\n",
    "from pyspark.sql.functions import upper, col\n",
    "from pyspark.sql.types import StructField, StructType, StringType, LongType, IntegerType\n",
    "from pyspark.sql.functions import udf, date_format\n",
    "import datetime as dt"
   ]
  },
  {
   "cell_type": "code",
   "execution_count": null,
   "metadata": {},
   "outputs": [],
   "source": [
    "# Explore and assess the data\n",
    "\n",
    "## Explore data\n",
    "# - Identify data quality issues (missing values, duplicate data etc.)\n"
   ]
  },
  {
   "cell_type": "code",
   "execution_count": 2,
   "metadata": {},
   "outputs": [],
   "source": [
    "# Read us-cities-demographics.csv\n",
    "us_spark = spark.read.csv(\"./datasets/us-cities-demographics.csv\", sep=\";\", header=True)"
   ]
  },
  {
   "cell_type": "code",
   "execution_count": 3,
   "metadata": {},
   "outputs": [
    {
     "output_type": "execute_result",
     "data": {
      "text/plain": [
       "['City',\n",
       " 'State',\n",
       " 'Median Age',\n",
       " 'Male Population',\n",
       " 'Female Population',\n",
       " 'Total Population',\n",
       " 'Number of Veterans',\n",
       " 'Foreign-born',\n",
       " 'Average Household Size',\n",
       " 'State Code',\n",
       " 'Race',\n",
       " 'Count']"
      ]
     },
     "metadata": {},
     "execution_count": 3
    }
   ],
   "source": [
    "# Check columns of the dataset\n",
    "us_spark.columns"
   ]
  },
  {
   "cell_type": "code",
   "execution_count": 4,
   "metadata": {},
   "outputs": [
    {
     "output_type": "stream",
     "name": "stdout",
     "text": [
      "+-------+----------+----------+---------------+-----------------+----------------+------------+----------------------+\n|   City|     State|Median Age|Male Population|Female Population|Total Population|Foreign-born|Average Household Size|\n+-------+----------+----------+---------------+-----------------+----------------+------------+----------------------+\n|Abilene|     Texas|      31.3|          65212|            60664|          125876|        8129|                  2.64|\n|Abilene|     Texas|      31.3|          65212|            60664|          125876|        8129|                  2.64|\n|Abilene|     Texas|      31.3|          65212|            60664|          125876|        8129|                  2.64|\n|Abilene|     Texas|      31.3|          65212|            60664|          125876|        8129|                  2.64|\n|Abilene|     Texas|      31.3|          65212|            60664|          125876|        8129|                  2.64|\n|  Akron|      Ohio|      38.1|          96886|           100667|          197553|       10024|                  2.24|\n|  Akron|      Ohio|      38.1|          96886|           100667|          197553|       10024|                  2.24|\n|  Akron|      Ohio|      38.1|          96886|           100667|          197553|       10024|                  2.24|\n|  Akron|      Ohio|      38.1|          96886|           100667|          197553|       10024|                  2.24|\n|  Akron|      Ohio|      38.1|          96886|           100667|          197553|       10024|                  2.24|\n|Alafaya|   Florida|      33.5|          39504|            45760|           85264|       15842|                  2.94|\n|Alafaya|   Florida|      33.5|          39504|            45760|           85264|       15842|                  2.94|\n|Alafaya|   Florida|      33.5|          39504|            45760|           85264|       15842|                  2.94|\n|Alafaya|   Florida|      33.5|          39504|            45760|           85264|       15842|                  2.94|\n|Alameda|California|      41.4|          37747|            40867|           78614|       18841|                  2.52|\n|Alameda|California|      41.4|          37747|            40867|           78614|       18841|                  2.52|\n|Alameda|California|      41.4|          37747|            40867|           78614|       18841|                  2.52|\n|Alameda|California|      41.4|          37747|            40867|           78614|       18841|                  2.52|\n|Alameda|California|      41.4|          37747|            40867|           78614|       18841|                  2.52|\n| Albany|  New York|      32.8|          47627|            50825|           98452|       11948|                  2.08|\n+-------+----------+----------+---------------+-----------------+----------------+------------+----------------------+\nonly showing top 20 rows\n\n"
     ]
    }
   ],
   "source": [
    "# Check us_spark dataset for repeated rows, and which columns cause the duplicates\n",
    "us_spark.select(\"City\", \"State\", \"Median Age\", \"Male Population\", \"Female Population\", \"Total Population\", \\\n",
    "                \"Foreign-born\", \"Average Household Size\").orderBy(\"City\").show()"
   ]
  },
  {
   "cell_type": "code",
   "execution_count": 5,
   "metadata": {},
   "outputs": [
    {
     "output_type": "stream",
     "name": "stdout",
     "text": [
      "+-------+----------+--------------------+------+\n|   City|State Code|                Race| Count|\n+-------+----------+--------------------+------+\n|Abilene|        TX|American Indian a...|  1813|\n|Abilene|        TX|  Hispanic or Latino| 33222|\n|Abilene|        TX|               White| 95487|\n|Abilene|        TX|               Asian|  2929|\n|Abilene|        TX|Black or African-...| 14449|\n|  Akron|        OH|               White|129192|\n|  Akron|        OH|  Hispanic or Latino|  3684|\n|  Akron|        OH|Black or African-...| 66551|\n|  Akron|        OH|               Asian|  9033|\n|  Akron|        OH|American Indian a...|  1845|\n|Alafaya|        FL|  Hispanic or Latino| 34897|\n|Alafaya|        FL|               Asian| 10336|\n|Alafaya|        FL|               White| 63666|\n|Alafaya|        FL|Black or African-...|  6577|\n|Alameda|        CA|               White| 44232|\n|Alameda|        CA|American Indian a...|  1329|\n|Alameda|        CA|Black or African-...|  7364|\n|Alameda|        CA|  Hispanic or Latino|  8265|\n|Alameda|        CA|               Asian| 27984|\n| Albany|        NY|  Hispanic or Latino|  9368|\n+-------+----------+--------------------+------+\nonly showing top 20 rows\n\n"
     ]
    }
   ],
   "source": [
    "# Check subset of `US` dataset that maybe causing dupliate rows\n",
    "us_spark.select(\"City\",\"State Code\",\"Race\",\"Count\").orderBy(\"City\").show()"
   ]
  },
  {
   "cell_type": "code",
   "execution_count": 7,
   "metadata": {},
   "outputs": [
    {
     "output_type": "stream",
     "name": "stdout",
     "text": [
      "+-------+----------+----------+---------------+-----------------+----------------+------------------+------------+----------------------+----------+--------------------+------+\n|   City|     State|Median Age|Male Population|Female Population|Total Population|Number of Veterans|Foreign-born|Average Household Size|State Code|                Race| Count|\n+-------+----------+----------+---------------+-----------------+----------------+------------------+------------+----------------------+----------+--------------------+------+\n|Abilene|     Texas|      31.3|          65212|            60664|          125876|              9367|        8129|                  2.64|        TX|American Indian a...|  1813|\n|Abilene|     Texas|      31.3|          65212|            60664|          125876|              9367|        8129|                  2.64|        TX|  Hispanic or Latino| 33222|\n|Abilene|     Texas|      31.3|          65212|            60664|          125876|              9367|        8129|                  2.64|        TX|               White| 95487|\n|Abilene|     Texas|      31.3|          65212|            60664|          125876|              9367|        8129|                  2.64|        TX|               Asian|  2929|\n|Abilene|     Texas|      31.3|          65212|            60664|          125876|              9367|        8129|                  2.64|        TX|Black or African-...| 14449|\n|  Akron|      Ohio|      38.1|          96886|           100667|          197553|             12878|       10024|                  2.24|        OH|               White|129192|\n|  Akron|      Ohio|      38.1|          96886|           100667|          197553|             12878|       10024|                  2.24|        OH|  Hispanic or Latino|  3684|\n|  Akron|      Ohio|      38.1|          96886|           100667|          197553|             12878|       10024|                  2.24|        OH|Black or African-...| 66551|\n|  Akron|      Ohio|      38.1|          96886|           100667|          197553|             12878|       10024|                  2.24|        OH|               Asian|  9033|\n|  Akron|      Ohio|      38.1|          96886|           100667|          197553|             12878|       10024|                  2.24|        OH|American Indian a...|  1845|\n|Alafaya|   Florida|      33.5|          39504|            45760|           85264|              4176|       15842|                  2.94|        FL|  Hispanic or Latino| 34897|\n|Alafaya|   Florida|      33.5|          39504|            45760|           85264|              4176|       15842|                  2.94|        FL|               Asian| 10336|\n|Alafaya|   Florida|      33.5|          39504|            45760|           85264|              4176|       15842|                  2.94|        FL|               White| 63666|\n|Alafaya|   Florida|      33.5|          39504|            45760|           85264|              4176|       15842|                  2.94|        FL|Black or African-...|  6577|\n|Alameda|California|      41.4|          37747|            40867|           78614|              4504|       18841|                  2.52|        CA|               White| 44232|\n|Alameda|California|      41.4|          37747|            40867|           78614|              4504|       18841|                  2.52|        CA|American Indian a...|  1329|\n|Alameda|California|      41.4|          37747|            40867|           78614|              4504|       18841|                  2.52|        CA|Black or African-...|  7364|\n|Alameda|California|      41.4|          37747|            40867|           78614|              4504|       18841|                  2.52|        CA|  Hispanic or Latino|  8265|\n|Alameda|California|      41.4|          37747|            40867|           78614|              4504|       18841|                  2.52|        CA|               Asian| 27984|\n| Albany|  New York|      32.8|          47627|            50825|           98452|              3643|       11948|                  2.08|        NY|  Hispanic or Latino|  9368|\n+-------+----------+----------+---------------+-----------------+----------------+------------------+------------+----------------------+----------+--------------------+------+\nonly showing top 20 rows\n\n"
     ]
    }
   ],
   "source": [
    "## Printing all columns to check again\n",
    "us_spark.select(\"City\", \"State\", \"Median Age\", \"Male Population\", \"Female Population\", \"Total Population\", \\\n",
    "                \"Number of Veterans\", \"Foreign-born\", \"Average Household Size\", \"State Code\", \\\n",
    "                \"Race\", \"Count\").orderBy(\"City\").show()\n",
    "\n",
    "#  ['City',\n",
    "#  'State',\n",
    "#  'Median Age',\n",
    "#  'Male Population',\n",
    "#  'Female Population',\n",
    "#  'Total Population',\n",
    "#  'Number of Veterans',\n",
    "#  'Foreign-born',\n",
    "#  'Average Household Size',\n",
    "#  'State Code',\n",
    "#  'Race',\n",
    "#  'Count']"
   ]
  },
  {
   "cell_type": "code",
   "execution_count": 22,
   "metadata": {},
   "outputs": [
    {
     "output_type": "error",
     "ename": "NameError",
     "evalue": "name 'second' is not defined",
     "traceback": [
      "\u001b[0;31m---------------------------------------------------------------------------\u001b[0m",
      "\u001b[0;31mNameError\u001b[0m                                 Traceback (most recent call last)",
      "\u001b[0;32m<ipython-input-22-a0b192de5440>\u001b[0m in \u001b[0;36m<module>\u001b[0;34m\u001b[0m\n\u001b[1;32m      5\u001b[0m             \u001b[0;34m.\u001b[0m\u001b[0mgroupBy\u001b[0m\u001b[0;34m(\u001b[0m\u001b[0mus_spark\u001b[0m\u001b[0;34m.\u001b[0m\u001b[0mCity\u001b[0m\u001b[0;34m,\u001b[0m \u001b[0;34m\"State Code\"\u001b[0m\u001b[0;34m)\u001b[0m\u001b[0;34m\u001b[0m\u001b[0;34m\u001b[0m\u001b[0m\n\u001b[1;32m      6\u001b[0m             \u001b[0;34m.\u001b[0m\u001b[0mpivot\u001b[0m\u001b[0;34m(\u001b[0m\u001b[0;34m\"Race\"\u001b[0m\u001b[0;34m)\u001b[0m\u001b[0;34m\u001b[0m\u001b[0;34m\u001b[0m\u001b[0m\n\u001b[0;32m----> 7\u001b[0;31m             .agg(second(\"Count\")))\n\u001b[0m",
      "\u001b[0;31mNameError\u001b[0m: name 'second' is not defined"
     ]
    }
   ],
   "source": [
    "# Cleaning the dataset --- Approach:\n",
    "## - 'Race' and 'Count' columns are the cause of duplicate rows. Hence, the approach is to separate them into their own dataset, and include \"City\" and \"State Code\" columns for reference\n",
    "## - Cleaned-up US dataset can be joined back into us_race_cnt dataset to, eventually, contain unique rows\n",
    "us_race_cnt = (us_spark.select(\"City\", \"State Code\", \"Race\", \"Count\")\n",
    "            .groupBy(us_spark.City, \"State Code\")\n",
    "            .pivot(\"Race\")\n",
    "            .agg(first(\"Count\")))"
   ]
  },
  {
   "cell_type": "code",
   "execution_count": 21,
   "metadata": {},
   "outputs": [
    {
     "output_type": "stream",
     "name": "stdout",
     "text": [
      "+------------+----------+---------------------------------+-----+-------------------------+------------------+------+\n|        City|State Code|American Indian and Alaska Native|Asian|Black or African-American|Hispanic or Latino| White|\n+------------+----------+---------------------------------+-----+-------------------------+------------------+------+\n|     Abilene|        TX|                             1813| 2929|                    14449|             33222| 95487|\n|       Akron|        OH|                             1845| 9033|                    66551|              3684|129192|\n|     Alafaya|        FL|                             null|10336|                     6577|             34897| 63666|\n|     Alameda|        CA|                             1329|27984|                     7364|              8265| 44232|\n|      Albany|        GA|                              445|  650|                    53440|              1783| 17160|\n|      Albany|        NY|                             1611| 8090|                    31303|              9368| 58368|\n| Albuquerque|        NM|                            32243|25140|                    26774|            271854|411847|\n|  Alexandria|        VA|                             1133|13315|                    37168|             25573|106215|\n|    Alhambra|        CA|                              687|44067|                     1905|             31386| 20811|\n|       Allen|        TX|                              227|15790|                    13140|             10615| 69840|\n|       Allen|        PA|                             1076| 2670|                    22304|             59176| 74187|\n|    Amarillo|        TX|                             4260| 8563|                    14050|             65392|174214|\n|        Ames|        IA|                             null| 8979|                     1103|              2024| 56157|\n|     Anaheim|        CA|                             2489|53270|                     9775|            201593|259820|\n|   Anchorage|        AK|                            36339|36825|                    23107|             27261|212696|\n|   Ann Arbor|        MI|                             1935|18797|                     9577|              5888| 90173|\n|     Antioch|        CA|                             3462|14333|                    23227|             35563| 51151|\n|Apple Valley|        CA|                             1446| 2281|                     9124|             25928| 60767|\n|    Appleton|        WI|                              835| 5561|                     3407|              5139| 64674|\n|Arden-Arcade|        CA|                             2587| 7355|                    13647|             15273| 69369|\n+------------+----------+---------------------------------+-----+-------------------------+------------------+------+\nonly showing top 20 rows\n\n"
     ]
    }
   ],
   "source": [
    "## Check us_race_cnt dataset\n",
    "us_race_cnt.orderBy(\"City\").show()"
   ]
  },
  {
   "cell_type": "code",
   "execution_count": 23,
   "metadata": {},
   "outputs": [
    {
     "output_type": "execute_result",
     "data": {
      "text/plain": [
       "(596, 596)"
      ]
     },
     "metadata": {},
     "execution_count": 23
    }
   ],
   "source": [
    "# Compare datasets - before and after dropping duplicate rows\n",
    "(us_race_cnt.count(), us_race_cnt.dropDuplicates().count())"
   ]
  },
  {
   "cell_type": "code",
   "execution_count": null,
   "metadata": {},
   "outputs": [],
   "source": []
  }
 ]
}